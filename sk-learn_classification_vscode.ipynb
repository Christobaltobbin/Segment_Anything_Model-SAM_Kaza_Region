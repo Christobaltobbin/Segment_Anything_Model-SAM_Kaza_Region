{
 "cells": [
  {
   "cell_type": "markdown",
   "metadata": {},
   "source": [
    "### Sk-learn Classification Script"
   ]
  },
  {
   "cell_type": "code",
   "execution_count": 1,
   "metadata": {},
   "outputs": [],
   "source": [
    "#Import necessary libraries\n",
    "import os\n",
    "import geopandas as gpd\n",
    "import rasterio\n",
    "import numpy as np\n",
    "from rasterio.features import geometry_mask\n",
    "from sklearn.model_selection import train_test_split\n",
    "from sklearn.metrics import classification_report\n",
    "import autosklearn.classification\n",
    "import matplotlib.pyplot as plt"
   ]
  },
  {
   "cell_type": "markdown",
   "metadata": {},
   "source": [
    "### Load the Image"
   ]
  },
  {
   "cell_type": "code",
   "execution_count": 2,
   "metadata": {},
   "outputs": [],
   "source": [
    "file_path = \"/mnt/c/Users/User/Desktop/Master_Thesis_Christobal/Sentinel_Images/Wet_RGBNIR/Kaza_NDVI_Wet_season_Image.tif\"\n",
    "shapefile_path = \"/mnt/c/Users/User/Desktop/Master_Thesis_Christobal/Shapefiles/training_data_kaza.shp\""
   ]
  },
  {
   "cell_type": "code",
   "execution_count": 3,
   "metadata": {},
   "outputs": [
    {
     "name": "stdout",
     "output_type": "stream",
     "text": [
      "Image dimensions (Bands, Height, Width): (9, 1678, 2202)\n"
     ]
    }
   ],
   "source": [
    "if not os.path.exists(file_path):\n",
    "    print('File does not exist:', file_path)\n",
    "else:\n",
    "    with rasterio.open(file_path) as src:\n",
    "        image = src.read() #read all bands as a numpy array\n",
    "        profile = src.profile #saves geospatial profile for later re-projection\n",
    "        transform = src.transform # transforms mapping coordinates to pixels\n",
    "        crs = src.crs # coordinate reference system (crs) \n",
    "        print('Image dimensions (Bands, Height, Width):', image.shape)"
   ]
  },
  {
   "cell_type": "markdown",
   "metadata": {},
   "source": [
    "### Load the Training Data"
   ]
  },
  {
   "cell_type": "code",
   "execution_count": 6,
   "metadata": {},
   "outputs": [],
   "source": [
    "shapefile = gpd.read_file(shapefile_path)\n",
    "if shapefile.crs != crs:\n",
    "    shapefile = shapefile.to_crs(crs) # ensures crs matches that of the raster image"
   ]
  }
 ],
 "metadata": {
  "kernelspec": {
   "display_name": "myenv4",
   "language": "python",
   "name": "python3"
  },
  "language_info": {
   "codemirror_mode": {
    "name": "ipython",
    "version": 3
   },
   "file_extension": ".py",
   "mimetype": "text/x-python",
   "name": "python",
   "nbconvert_exporter": "python",
   "pygments_lexer": "ipython3",
   "version": "3.8.20"
  }
 },
 "nbformat": 4,
 "nbformat_minor": 2
}
