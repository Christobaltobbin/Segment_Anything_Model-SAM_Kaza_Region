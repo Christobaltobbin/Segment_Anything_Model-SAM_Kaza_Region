{
 "cells": [
  {
   "cell_type": "markdown",
   "metadata": {},
   "source": [
    "### Sk-learn Classification Script"
   ]
  },
  {
   "cell_type": "code",
   "execution_count": 8,
   "metadata": {},
   "outputs": [],
   "source": [
    "#Import necessary libraries\n",
    "import os\n",
    "import geopandas as gpd\n",
    "import rasterio\n",
    "import numpy as np\n",
    "from rasterio.features import geometry_mask\n",
    "from sklearn.model_selection import train_test_split\n",
    "from sklearn.metrics import classification_report\n",
    "import autosklearn.classification\n",
    "import matplotlib.pyplot as plt"
   ]
  },
  {
   "cell_type": "markdown",
   "metadata": {},
   "source": [
    "### Load the Image"
   ]
  },
  {
   "cell_type": "code",
   "execution_count": 9,
   "metadata": {},
   "outputs": [],
   "source": [
    "file_path = \"/mnt/c/Users/User/Desktop/Master_Thesis_Christobal/Sentinel_Images/Wet_RGBNIR/Kaza_NDVI_Wet_season_Image.tif\"\n",
    "shapefile_path = \"/mnt/c/Users/User/Desktop/Master_Thesis_Christobal/Shapefiles/training_data_kaza.shp\""
   ]
  },
  {
   "cell_type": "code",
   "execution_count": 10,
   "metadata": {},
   "outputs": [
    {
     "name": "stdout",
     "output_type": "stream",
     "text": [
      "Image dimensions (Bands, Height, Width): (9, 1678, 2202)\n"
     ]
    }
   ],
   "source": [
    "if not os.path.exists(file_path):\n",
    "    print('File does not exist:', file_path)\n",
    "else:\n",
    "    with rasterio.open(file_path) as src:\n",
    "        image = src.read() #read all bands as a numpy array\n",
    "        profile = src.profile #saves geospatial profile for later re-projection\n",
    "        transform = src.transform # transforms mapping coordinates to pixels\n",
    "        crs = src.crs # coordinate reference system (crs) \n",
    "        print('Image dimensions (Bands, Height, Width):', image.shape)"
   ]
  },
  {
   "cell_type": "markdown",
   "metadata": {},
   "source": [
    "### Load the Training Data"
   ]
  },
  {
   "cell_type": "code",
   "execution_count": 11,
   "metadata": {},
   "outputs": [],
   "source": [
    "shapefile = gpd.read_file(shapefile_path)\n",
    "if shapefile.crs != crs:\n",
    "    shapefile = shapefile.to_crs(crs) # ensures crs matches that of the raster image"
   ]
  },
  {
   "cell_type": "markdown",
   "metadata": {},
   "source": [
    "##### Extract the labels and their corresponding geometrics"
   ]
  },
  {
   "cell_type": "code",
   "execution_count": 12,
   "metadata": {},
   "outputs": [],
   "source": [
    "labels = shapefile['Class'] # select column\n",
    "geometries = shapefile.geometry"
   ]
  },
  {
   "cell_type": "markdown",
   "metadata": {},
   "source": [
    "##### Extract training data from raster using shapefile"
   ]
  },
  {
   "cell_type": "code",
   "execution_count": 13,
   "metadata": {},
   "outputs": [],
   "source": [
    "training_data = []\n",
    "training_labels = []\n",
    "\n",
    "for geometry, label in zip(geometries, labels):\n",
    "    # create mask for the geometry\n",
    "    mask = geometry_mask([geometry], transform=transform, invert=True, out_shape=(image.shape[1], image.shape[2]))\n",
    "\n",
    "    # Extract pixel values within the geometry\n",
    "    pixels = image[:, mask].T # Shape: (num_pixels, num_bands)\n",
    "    training_data.append(pixels)\n",
    "    training_labels.extend([label] * len(pixels)) # Repeat the label for all pixels"
   ]
  },
  {
   "cell_type": "code",
   "execution_count": 14,
   "metadata": {},
   "outputs": [],
   "source": [
    "# Flatten training data into a single array\n",
    "training_data = np.vstack(training_data)\n",
    "training_labels = np.array(training_labels)"
   ]
  },
  {
   "cell_type": "markdown",
   "metadata": {},
   "source": [
    "##### Prepare the data for classification"
   ]
  },
  {
   "cell_type": "code",
   "execution_count": 15,
   "metadata": {},
   "outputs": [
    {
     "name": "stdout",
     "output_type": "stream",
     "text": [
      "Training samples: 113, Testing samples: 49\n"
     ]
    }
   ],
   "source": [
    "#Split into training and testing sets\n",
    "X_train, X_test, y_train, y_test = train_test_split(training_data, training_labels, test_size=0.3, random_state=42)\n",
    "\n",
    "print(f'Training samples: {len(X_train)}, Testing samples: {len(X_test)}')"
   ]
  },
  {
   "cell_type": "markdown",
   "metadata": {},
   "source": [
    "##### Perform Classifcation using auto-sklearn"
   ]
  },
  {
   "cell_type": "code",
   "execution_count": null,
   "metadata": {},
   "outputs": [
    {
     "name": "stderr",
     "output_type": "stream",
     "text": [
      "/tmp/ipykernel_34552/695854624.py:1: DeprecationWarning: `ensemble_size` has been deprecated, please use `ensemble_kwargs = {'ensemble_size': 50}`. Inserting `ensemble_size` into `ensemble_kwargs` for now. `ensemble_size` will be removed in auto-sklearn 0.16.\n",
      "  automl = autosklearn.classification.AutoSklearnClassifier(\n"
     ]
    },
    {
     "name": "stdout",
     "output_type": "stream",
     "text": [
      " Training AutoSklearn Classifier...\n"
     ]
    }
   ],
   "source": [
    "automl = autosklearn.classification.AutoSklearnClassifier(\n",
    "    time_left_for_this_task=3600, # 1 hour time limit\n",
    "    per_run_time_limit=300, # 5 minutes per model\n",
    "    ensemble_size=50\n",
    ")\n",
    "\n",
    "print(' Training AutoSklearn Classifier...')\n",
    "# Fit the AutoSklearn Classifier\n",
    "automl.fit(X_train, y_train, random_state=42)"
   ]
  },
  {
   "cell_type": "code",
   "execution_count": null,
   "metadata": {},
   "outputs": [],
   "source": [
    "# Print the results\n",
    "print('Auto-sklearn training complete.')\n",
    "print('Best model:', automl.show_models())"
   ]
  },
  {
   "cell_type": "markdown",
   "metadata": {},
   "source": [
    "##### Evaluate the Model"
   ]
  },
  {
   "cell_type": "code",
   "execution_count": null,
   "metadata": {},
   "outputs": [],
   "source": [
    "print('Evaluating the Model...')\n",
    "y_pred = automl.predict(X_test)"
   ]
  },
  {
   "cell_type": "code",
   "execution_count": null,
   "metadata": {},
   "outputs": [],
   "source": [
    "# Generate classification report\n",
    "print(classification_report(y_test, y_pred))"
   ]
  },
  {
   "cell_type": "markdown",
   "metadata": {},
   "source": [
    "##### Apply the Model to the entire image"
   ]
  },
  {
   "cell_type": "code",
   "execution_count": null,
   "metadata": {},
   "outputs": [],
   "source": [
    "# Reshape the image into samples (rows = pixels, column = bands)\n",
    "bands, height, width = image.shape\n",
    "data = image.reshape(bands, height * width).T"
   ]
  },
  {
   "cell_type": "code",
   "execution_count": null,
   "metadata": {},
   "outputs": [],
   "source": [
    "# Predict the class for all valid pixels\n",
    "predictions = automl.predict(data)"
   ]
  },
  {
   "cell_type": "code",
   "execution_count": null,
   "metadata": {},
   "outputs": [],
   "source": [
    "# Reconstruct the Classified image\n",
    "classified_image = predictions.reshape(height, width)"
   ]
  },
  {
   "cell_type": "markdown",
   "metadata": {},
   "source": [
    "##### Visualize the results"
   ]
  },
  {
   "cell_type": "code",
   "execution_count": null,
   "metadata": {},
   "outputs": [],
   "source": [
    "plt.figure(figsize=(10, 10))\n",
    "plt.title('Classified Image')\n",
    "plt.imshow(classified_image, cmap='tab20', interpolation='nearest')\n",
    "plt.colorbar(label='Class Labels')\n",
    "plt.show()"
   ]
  },
  {
   "cell_type": "markdown",
   "metadata": {},
   "source": [
    "##### Save the classified image as a GeoTiff file"
   ]
  },
  {
   "cell_type": "code",
   "execution_count": null,
   "metadata": {},
   "outputs": [],
   "source": [
    "output_path = \"/mnt/c/Users/User/Desktop/Master_Thesis_Christobal/Results/classified_image.tif\"\n",
    "with rasterio.open(\n",
    "    output_path,\n",
    "    'w',\n",
    "    driver='GTiff',\n",
    "    height=height,\n",
    "    width=width,\n",
    "    count=1,\n",
    "    dtype=classified_image.dtype,\n",
    "    crs=profile['crs'],\n",
    "    transform=profile['transform']\n",
    ") as dst:\n",
    "    dst.write(classified_image, 1)\n",
    "\n",
    "print(f\"Classified image saved to: {output_path}\")"
   ]
  }
 ],
 "metadata": {
  "kernelspec": {
   "display_name": "myenv4",
   "language": "python",
   "name": "python3"
  },
  "language_info": {
   "codemirror_mode": {
    "name": "ipython",
    "version": 3
   },
   "file_extension": ".py",
   "mimetype": "text/x-python",
   "name": "python",
   "nbconvert_exporter": "python",
   "pygments_lexer": "ipython3",
   "version": "3.8.20"
  }
 },
 "nbformat": 4,
 "nbformat_minor": 2
}
